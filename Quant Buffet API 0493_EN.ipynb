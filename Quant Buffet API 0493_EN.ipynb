{
 "cells": [
  {
   "cell_type": "markdown",
   "id": "a812aa04",
   "metadata": {},
   "source": [
    "# Complete Guide to Execute Strategy Now"
   ]
  },
  {
   "cell_type": "markdown",
   "id": "6db1598f",
   "metadata": {},
   "source": [
    "Follow these 6 simple steps to run the code in the above **\"FULL PYTHON CODE\"** section and view the backtest results instantly. No coding is required — everything has already been set up for you."
   ]
  },
  {
   "cell_type": "markdown",
   "id": "962c9476",
   "metadata": {},
   "source": [
    "## Step 1: Connect to API with Credentials"
   ]
  },
  {
   "cell_type": "markdown",
   "id": "a3c5e3c2",
   "metadata": {},
   "source": [
    "#### This step enables you to securely log into QuantConnect’s API, before executing your trading agorithm and getting backtest performance results. ####\n",
    "\n",
    "To break it further down: \n",
    "1. It first generates a time-sensitive token by combining your API key with the current time, encrypts it for safety, and formats it so it can be sent over the internet to the Server. \n",
    "2. Then, it sends a login request using this token. \n",
    "3. Lastly. the Server replies with a result confirming whether login was successful.\n",
    "\n",
    "The values for **`USER_ID`** and **`API_TOKEN`** used to access API server have been hidden for security reasons. Join QuantConnect Membership today to get your private User ID and API Token — and start executing your own strategy!"
   ]
  },
  {
   "cell_type": "code",
   "execution_count": 15,
   "id": "3536a57b",
   "metadata": {},
   "outputs": [],
   "source": [
    "from base64 import b64encode ## encodes text in Base64\n",
    "from hashlib import sha256 ## a blender that turns any text into a scrambled string (used for security)\n",
    "from time import time ## to get the current time in seconds, used to create a unique timestamp\n",
    "from requests import get, post ## requests: to send HTTP requests; get: Used to retrieve data from a server; post: Used to send data to a server\n",
    "import json ## to pretty print JSON reuslts with 4 indentation from API\n",
    "BASE_URL = 'https://www.quantconnect.com/api/v2/'\n",
    "\n",
    "# You can find our organization ID at https://www.quantconnect.com/organization/ \n",
    "USER_ID = 224901\n",
    "API_TOKEN = 'b26bdf0c94229806b8515308d77f75b6aa9829d2802540de0c9e9d0dc477da4e'\n",
    "## ORGANIZATION_ID = '____'"
   ]
  },
  {
   "cell_type": "code",
   "execution_count": 16,
   "id": "bfe79653",
   "metadata": {},
   "outputs": [
    {
     "name": "stdout",
     "output_type": "stream",
     "text": [
      "User authenication result:\n",
      "{'success': True}\n"
     ]
    }
   ],
   "source": [
    "def get_headers(): ## return the headers needed to send a secure request to the API.\n",
    "    \n",
    "    # Get timestamp\n",
    "    timestamp = f'{int(time())}' ## Gets the current time (like \"1722458765\"). This makes sure the token is only valid for a short time, adding security.\n",
    "    time_stamped_token = f'{API_TOKEN}:{timestamp}'.encode('utf-8') ## Combines API token with the current time, separated by a colon, like this:b26bd...da4e:1722458765. Then it turns it into computer-readable bytes using UTF-8.\n",
    "\n",
    "    # Get hased API token\n",
    "    hashed_token = sha256(time_stamped_token).hexdigest() ## runs it through the SHA-256 hashing algorithm, producing a long, scrambled string that’s impossible to reverse-engineer.\n",
    "    authentication = f'{USER_ID}:{hashed_token}'.encode('utf-8') ## Combines User ID and the hashed token, then encodes it into bytes. This is now the login identity in encrypted form.\n",
    "    authentication = b64encode(authentication).decode('ascii') ## Takes the encoded identity and Base64-encodes it, so it can be safely sent over the internet. Then it decodes it into a readable text string.\n",
    "\n",
    "    # Create headers dictionary.\n",
    "    return {\n",
    "        'Authorization': f'Basic {authentication}', ## your Base64 login string\n",
    "        'Timestamp': timestamp ## the time you created the token\n",
    "    } ## This is what you’ll include in your API request to prove who you are.\n",
    "\n",
    "# Log in to the system to prove your idenify\n",
    "response = post(f'{BASE_URL}/authenticate', headers = get_headers()) ## 'post' function sends data to API; It sends a request to the URL: www.quantconnect.com/api/v2/authenticate; It includes headers — the login info generated from your get_headers() function.\n",
    "print(\"User authenication result:\")\n",
    "print(response.json()) ## response of POST request is saved in variable \"response\"; shows whether authentication succeeded or not.\n",
    "\n",
    "# --------------------\n",
    "\n",
    "\n",
    "# The project ID of the project to manage\n",
    "project_id = 0 ## to be replaced with the project id created"
   ]
  },
  {
   "cell_type": "markdown",
   "id": "b3d98a62",
   "metadata": {},
   "source": [
    "## Step 2: Create New Project"
   ]
  },
  {
   "cell_type": "markdown",
   "id": "0a506732",
   "metadata": {},
   "source": [
    "This step creates a new **`project`** on QuantConnect via API - every algorithm must live inside a project. Consider it nothing more than a package box when you deliver something. \n",
    "\n",
    "The **inputs** are: \n",
    "1. the project’s name, and \n",
    "2. the programming language in use (\"Py\" for Python). \n",
    "\n",
    "It then sends it to the `/projects/create` API endpoint. \n",
    "\n",
    "The **output** tells you the new project’s unique ID.\n"
   ]
  },
  {
   "cell_type": "code",
   "execution_count": 17,
   "id": "00feea36",
   "metadata": {},
   "outputs": [
    {
     "name": "stdout",
     "output_type": "stream",
     "text": [
      "Project Created Successfully. Your Project ID is 24256806.\n",
      "\n",
      "{\n",
      "    \"projects\": [\n",
      "        {\n",
      "            \"projectId\": 24256806,\n",
      "            \"organizationId\": \"0aa48a67d71e36c6a3870ebb8c224664\",\n",
      "            \"name\": \"Project_1753640585\",\n",
      "            \"modified\": \"2025-07-27 18:23:06\",\n",
      "            \"created\": \"2025-07-27 18:23:06\",\n",
      "            \"ownerId\": 224901,\n",
      "            \"language\": \"Py\",\n",
      "            \"collaborators\": [\n",
      "                {\n",
      "                    \"uid\": 224901,\n",
      "                    \"liveControl\": true,\n",
      "                    \"permission\": \"write\",\n",
      "                    \"publicId\": \"haixiang-yan\",\n",
      "                    \"profileImage\": \"https://cdn.quantconnect.com/web/i/users/profile/4f9b4ae886ebdb31674640077.png\",\n",
      "                    \"email\": \"hxyan.2015@gmail.com\",\n",
      "                    \"name\": \"Haixiang Yan\",\n",
      "                    \"bio\": null,\n",
      "                    \"owner\": true\n",
      "                }\n",
      "            ],\n",
      "            \"leanVersionId\": 17221,\n",
      "            \"leanPinnedToMaster\": true,\n",
      "            \"owner\": true,\n",
      "            \"description\": \"\",\n",
      "            \"channelId\": \"P24256806-739157c642393b48ec5cdc6055139374\",\n",
      "            \"parameters\": [],\n",
      "            \"libraries\": [],\n",
      "            \"isAlphaStreamDeployment\": 0,\n",
      "            \"grid\": {\n",
      "                \"xs\": [],\n",
      "                \"sm\": [],\n",
      "                \"md\": [],\n",
      "                \"lg\": [],\n",
      "                \"xl\": []\n",
      "            },\n",
      "            \"liveGrid\": {\n",
      "                \"xs\": [],\n",
      "                \"sm\": [],\n",
      "                \"md\": [],\n",
      "                \"lg\": [],\n",
      "                \"xl\": []\n",
      "            },\n",
      "            \"builder\": 0,\n",
      "            \"paperEquity\": null,\n",
      "            \"lastLiveDeployment\": null,\n",
      "            \"liveForm\": null,\n",
      "            \"encrypted\": false,\n",
      "            \"codeRunning\": false,\n",
      "            \"leanEnvironment\": 1,\n",
      "            \"encryptionKey\": null,\n",
      "            \"maxFileSize\": 64000\n",
      "        }\n",
      "    ],\n",
      "    \"success\": true\n",
      "}\n"
     ]
    }
   ],
   "source": [
    "### Create Project\n",
    "# Send a POST request to the /projects/create endpoint to create a new project\n",
    "response = post(f'{BASE_URL}/projects/create', headers=get_headers(), json={  ## The json={...} part contains the project information you're sending = a dictionary contains 2 items: Project Name and Language. \n",
    "    \"name\": f\"Project_{int(time())}\",  # Unique project name using current timestamp\n",
    "    \"language\": \"Py\"  # Programming language for the project (Python)\n",
    "})\n",
    "\n",
    "# Parse the JSON response into python managable dict\n",
    "result = response.json() ## json() converts JSON response to distionary - not the other way around\n",
    "\n",
    "# Extract the project ID from the response\n",
    "project_id = result['projects'][0]['projectId'] ## \"result\" is a nested disctionary: first level got 2 keys: 'success' and 'projects', then under 'projects', it contains nested 2 disctionaries with keys: 'projectId' and 'name' \n",
    "## [0] here access the first nested dictionary with key = 'projectId'\n",
    "\n",
    "# Check if the request was successful and print the result\n",
    "if result['success']:\n",
    "    print(\"Project Created Successfully. Your Project ID is \" + str(project_id) + \".\\n\")\n",
    "    ## print(result)\n",
    "    print(json.dumps(result, indent=4))"
   ]
  },
  {
   "cell_type": "markdown",
   "id": "b4b33e1e",
   "metadata": {},
   "source": [
    "## Step 3: Create Algorithm File"
   ]
  },
  {
   "cell_type": "markdown",
   "id": "0cdd4605",
   "metadata": {},
   "source": [
    "This step puts the **`algorithm file`** inside the QuantConnect project you defined in step 2 (the \"package box\") via API.\n",
    "\n",
    "The **inputs** are: \n",
    "1. the file name you defined (e.g. `utils.py`),\n",
    "2. its content (the trading algorithm), and \n",
    "3. the associated project ID (the \"package box\"). \n",
    "\n",
    "It then sends these to QuantConnect’s `/files/create` endpoint. \n",
    "\n",
    "The **output** is a response confirming success and returning the uploaded file name.\n"
   ]
  },
  {
   "cell_type": "code",
   "execution_count": 18,
   "id": "eb62248a",
   "metadata": {},
   "outputs": [
    {
     "name": "stdout",
     "output_type": "stream",
     "text": [
      "Algorithm Created Successfully. Your Algorithm Name is algo_0493.py.\n",
      "\n",
      "{\n",
      "    \"files\": [\n",
      "        {\n",
      "            \"id\": 97985335,\n",
      "            \"name\": \"algo_0493.py\",\n",
      "            \"content\": \"import numpy as np\\nfrom AlgorithmImports import *\\nfrom functools import reduce\\nfrom numpy import isnan\\nfrom pandas.core.frame import DataFrame\\nclass ClassicalEquityAnomaliesCombinedwithTrendfollowingFilter(QCAlgorithm):\\n    def Initialize(self):\\n        self.SetStartDate(2000, 1, 1)\\n        self.SetCash(100000)\\n        market:Symbol = self.AddEquity('SPY', Resolution.Daily).Symbol\\n        self.financial_statement_names:List[str] = [\\n            'ValuationRatios.PBRatio',\\n            'FinancialStatements.IncomeStatement.GrossProfit.TwelveMonths',\\n            'FinancialStatements.IncomeStatement.TotalOperatingIncomeAsReported.TwelveMonths',\\n            'OperationRatios.TotalAssetsGrowth.OneYear',\\n            'FinancialStatements.CashFlowStatement.CapitalExpenditure.TwelveMonths',\\n            'EarningReports.BasicAverageShares.TwelveMonths',\\n            # accruals data\\n            'FinancialStatements.BalanceSheet.CurrentAssets.TwelveMonths',\\n            'FinancialStatements.BalanceSheet.CashAndCashEquivalents.TwelveMonths',\\n            'FinancialStatements.BalanceSheet.CurrentLiabilities.TwelveMonths',\\n            'FinancialStatements.BalanceSheet.CurrentDebt.TwelveMonths',\\n            'FinancialStatements.BalanceSheet.IncomeTaxPayable.TwelveMonths',\\n            'FinancialStatements.IncomeStatement.DepreciationAndAmortization.TwelveMonths',\\n            'FinancialStatements.BalanceSheet.TotalAssets.TwelveMonths'\\n        ]\\n        # Daily sma data.\\n        self.data:Dict[Symbol, SymbolData] = {}\\n        self.short_period:int = 50\\n        self.long_period:int = 200\\n        self.performance_period:int = 12*21\\n        self.quantile:int = 10\\n        self.leverage:int = 5\\n        self.long:List[Symbol] = []\\n        self.short:List[Symbol] = []\\n        self.fundamental_count:int = 1000\\n        self.fundamental_sorting_key = lambda x: x.DollarVolume\\n        \\n        self.selection_flag:bool = False\\n        self.UniverseSettings.Resolution = Resolution.Daily\\n        self.AddUniverse(self.FundamentalSelectionFunction)\\n        self.Settings.MinimumOrderMarginPortfolioPercentage = 0.\\n        self.Schedule.On(self.DateRules.MonthEnd(market), self.TimeRules.BeforeMarketClose(market), self.Selection)\\n        self.settings.daily_precise_end_time = False\\n    def OnSecuritiesChanged(self, changes: SecurityChanges) -> None:\\n        for security in changes.AddedSecurities:\\n            security.SetFeeModel(CustomFeeModel())\\n            security.SetLeverage(self.leverage)\\n            \\n    def FundamentalSelectionFunction(self, fundamental: List[Fundamental]) -> List[Symbol]:\\n        # Update SMA every day.\\n        for stock in fundamental:\\n            symbol:Symbol = stock.Symbol\\n            # Store monthly price.\\n            if symbol in self.data:\\n                self.data[symbol].update(self.Time, stock.AdjustedPrice)\\n        if not self.selection_flag:\\n            return Universe.Unchanged\\n        selected:List[Fundamental] = [\\n            x for x in fundamental if x.HasFundamentalData and x.Market == 'usa' and \\\\\\n            all((not isnan(self.rgetattr(x, statement_name)) and self.rgetattr(x, statement_name) != 0) for statement_name in self.financial_statement_names)\\n        ]\\n        if len(selected) > self.fundamental_count:\\n            selected = [x for x in sorted(selected, key=self.fundamental_sorting_key, reverse=True)[:self.fundamental_count]]\\n        # Ranked stocks.\\n        rank = {}\\n        current_accruals_data = {}\\n        acc = {}\\n        momentum = {}\\n        net_stock_issue = {}\\n        capex = {}\\n        noa = {}\\n        selected_stocks:List[Fundamental] = []\\n        # Warmup price rolling windows.\\n        for stock in selected:\\n            symbol:Symbol = stock.Symbol\\n            if symbol not in self.data:\\n                self.data[symbol] = SymbolData(self.short_period, self.long_period, self.performance_period)\\n                history:DataFrame = self.History(symbol, self.performance_period, Resolution.Daily)\\n                if history.empty:\\n                    self.Log(f\\\"Not enough data for {symbol} yet.\\\")\\n                    continue\\n                \\n                closes:pd.Series = history.loc[symbol].close\\n                for time, close in closes.items():\\n                    self.data[symbol].update(time, close)\\n            \\n            if self.data[symbol].is_ready():\\n                selected_stocks.append(stock)\\n                rank[symbol] = 0\\n                momentum[symbol] = self.data[symbol].performance()\\n            \\n                # Accural calc\\n                current_accruals_data = AccrualsData(stock.FinancialStatements.BalanceSheet.CurrentAssets.TwelveMonths, stock.FinancialStatements.BalanceSheet.CashAndCashEquivalents.TwelveMonths,\\n                                                            stock.FinancialStatements.BalanceSheet.CurrentLiabilities.TwelveMonths, stock.FinancialStatements.BalanceSheet.CurrentDebt.TwelveMonths, stock.FinancialStatements.BalanceSheet.IncomeTaxPayable.TwelveMonths,\\n                                                            stock.FinancialStatements.IncomeStatement.DepreciationAndAmortization.TwelveMonths, stock.FinancialStatements.BalanceSheet.TotalAssets.TwelveMonths)\\n                if self.data[symbol].accruals_data:\\n                    acc[symbol] = self.CalculateAccruals(current_accruals_data, self.data[symbol].accruals_data)\\n            \\n                    # Calculate NOA.\\n                    noa[symbol] = (stock.FinancialStatements.BalanceSheet.CurrentAssets.TwelveMonths - stock.FinancialStatements.BalanceSheet.CurrentLiabilities.TwelveMonths) / self.data[symbol].accruals_data.TotalAssets\\n                \\n                # Calculate stock stock issue.\\n                num_of_shares = stock.EarningReports.BasicAverageShares.TwelveMonths\\n                if self.data[symbol].shares_outstanding:\\n                    net_stock_issue[symbol] = num_of_shares / self.data[symbol].shares_outstanding - 1\\n                self.data[symbol].shares_outstanding = num_of_shares\\n                \\n                # Calculate stock capital expenditure.\\n                cap_expenditures = stock.FinancialStatements.CashFlowStatement.CapitalExpenditure.TwelveMonths\\n                if self.data[symbol].capex:\\n                    capex[symbol] = cap_expenditures / self.data[symbol].capex - 1\\n                self.data[symbol].capex = cap_expenditures\\n                \\n                # Update accruals data for next year's calculation.\\n                self.data[symbol].accruals_data = current_accruals_data            \\n            \\n        # Ensure that consecutive accruals and shares data are available.\\n        for symbol in self.data:\\n            if symbol not in list(map(lambda x: x.Symbol, selected_stocks)):\\n                self.data[symbol].accruals_data = None\\n                self.data[symbol].shares_outstanding = None\\n                self.data[symbol].capex = None\\n        \\n        # Sort by book to market.\\n        sorted_by_bm = sorted(selected_stocks, key=lambda x: 1 / x.ValuationRatios.PBRatio)\\n        for index, stock in enumerate(sorted_by_bm):\\n            rank[stock.Symbol] += (index+1)\\n        \\n        # Sort by gross profit.\\n        sorted_by_gp = sorted(selected_stocks, key=lambda x: x.FinancialStatements.IncomeStatement.GrossProfit.TwelveMonths / x.FinancialStatements.BalanceSheet.TotalAssets.TwelveMonths)\\n        for index, stock in enumerate(sorted_by_gp):\\n            rank[stock.Symbol] += (index+1)\\n        # Sort by operating profit.\\n        sorted_by_op = sorted(selected_stocks, key=lambda x: x.FinancialStatements.IncomeStatement.TotalOperatingIncomeAsReported.TwelveMonths)\\n        for index, stock in enumerate(sorted_by_op):\\n            rank[stock.Symbol] += (index+1)\\n        # Sort by asset growth.\\n        sorted_by_ag = sorted(selected_stocks, key=lambda x: x.OperationRatios.TotalAssetsGrowth.OneYear, reverse = True)\\n        for index, stock in enumerate(sorted_by_ag):\\n            rank[stock.Symbol] += (index+1)\\n        # Sort by investments.\\n        sorted_by_inv = sorted(capex.items(), key=lambda x: x[1], reverse = True)\\n        for index, symbol_si in enumerate(sorted_by_inv):\\n            rank[symbol_si[0]] += (index+1)\\n            \\n        # Sort by net stock issue.\\n        sorted_by_si = sorted(net_stock_issue.items(), key=lambda x: x[1], reverse = True)\\n        for index, symbol_si in enumerate(sorted_by_si):\\n            rank[symbol_si[0]] += (index+1)\\n        # Sort by accruals.\\n        sorted_by_acc = sorted(acc.items(), key=lambda x: x[1])\\n        for index, symbol_acc in enumerate(sorted_by_acc):\\n            rank[symbol_acc[0]] += (index+1)\\n        # Sort by NOA.\\n        sorted_by_noa = sorted(noa.items(), key=lambda x: x[1], reverse = True)\\n        for index, symbol_noa in enumerate(sorted_by_noa):\\n            rank[symbol_noa[0]] += (index+1)\\n        \\n        if len(rank) > self.quantile:\\n            # Rank sorting.\\n            sorted_by_rank:List = sorted(rank.items(), key=lambda x: x[1], reverse = True)\\n            quantile:int = int(len(sorted_by_rank) / self.quantile)\\n            top_decile:List[Symbol] = [x[0] for x in sorted_by_rank[:quantile]]\\n            bottom_decile:List[Symbol] = [x[0] for x in sorted_by_rank[-quantile:]]\\n            \\n            top_decile_perf:float = np.mean([momentum[x] for x in top_decile])\\n            bottom_decile_perf:float = np.mean([momentum[x] for x in bottom_decile])\\n            \\n            if top_decile_perf > bottom_decile_perf:\\n                self.long = top_decile\\n                self.short = bottom_decile\\n            else:\\n                self.long = bottom_decile\\n                self.short = top_decile\\n        \\n        return self.long + self.short\\n    def OnData(self, data: Slice) -> None:\\n        if not self.selection_flag:\\n            return\\n        self.selection_flag = False\\n        # order execution\\n        targets:List[PortfolioTarget] = []\\n        for i, portfolio in enumerate([self.long, self.short]):\\n            for symbol in portfolio:\\n                if symbol in data and data[symbol]:\\n                    targets.append(PortfolioTarget(symbol, ((-1) ** i) / len(portfolio)))\\n        \\n        self.SetHoldings(targets, True)\\n        self.long.clear()\\n        self.short.clear()\\n    \\n    def Selection(self) -> None:\\n        # Drop stocks according to trend filter.\\n        symbols_invested:List[Symbol] = [x.Key for x in self.Portfolio if x.Value.Invested]\\n        \\n        for symbol in symbols_invested:\\n            if self.Portfolio[symbol].IsLong:\\n                if not self.data[symbol].is_in_uptrend():\\n                    self.Liquidate(symbol)\\n            \\n            elif self.Portfolio[symbol].IsShort:\\n                if self.data[symbol].is_in_uptrend():\\n                    self.Liquidate(symbol)\\n        \\n        if self.Time.month == 6:\\n            self.selection_flag = True\\n    \\n    def CalculateAccruals(self, current_accrual_data, prev_accrual_data) -> float:\\n        delta_assets = current_accrual_data.CurrentAssets - prev_accrual_data.CurrentAssets\\n        delta_cash = current_accrual_data.CashAndCashEquivalents - prev_accrual_data.CashAndCashEquivalents\\n        delta_liabilities = current_accrual_data.CurrentLiabilities - prev_accrual_data.CurrentLiabilities\\n        delta_debt = current_accrual_data.CurrentDebt - prev_accrual_data.CurrentDebt\\n        delta_tax = current_accrual_data.IncomeTaxPayable - prev_accrual_data.IncomeTaxPayable\\n        dep = current_accrual_data.DepreciationAndAmortization\\n        avg_total = (current_accrual_data.TotalAssets + prev_accrual_data.TotalAssets) / 2\\n        \\n        bs_acc = ((delta_assets - delta_cash) - (delta_liabilities - delta_debt-delta_tax) - dep) / avg_total\\n        return bs_acc\\n    # https://gist.github.com/wonderbeyond/d293e7a2af1de4873f2d757edd580288\\n    def rgetattr(self, obj, attr, *args):\\n        def _getattr(obj, attr):\\n            return getattr(obj, attr, *args)\\n        return reduce(_getattr, [obj] + attr.split('.'))\\n        \\nclass AccrualsData():\\n    def __init__(self, current_assets, cash_and_cash_equivalents, current_liabilities, current_debt, income_tax_payable, depreciation_and_amortization, total_assets):\\n        self.CurrentAssets = current_assets\\n        self.CashAndCashEquivalents = cash_and_cash_equivalents\\n        self.CurrentLiabilities = current_liabilities\\n        self.CurrentDebt = current_debt\\n        self.IncomeTaxPayable = income_tax_payable\\n        self.DepreciationAndAmortization = depreciation_and_amortization\\n        self.TotalAssets = total_assets\\n        \\nclass SymbolData():\\n    def __init__(self, short_sma_period, long_sma_period, performance_period):\\n        self.price = RollingWindow[float](performance_period)\\n        self.short_sma = SimpleMovingAverage(short_sma_period)\\n        self.long_sma = SimpleMovingAverage(long_sma_period)\\n        \\n        self.accruals_data = None\\n        self.shares_outstanding = None\\n        self.capex = None\\n    \\n    def update(self, time: datetime, value: float):\\n        self.short_sma.Update(time, value)\\n        self.long_sma.Update(time, value)\\n        self.price.Add(value)\\n    \\n    def is_ready(self) -> bool:\\n        return (self.short_sma.IsReady and self.long_sma.IsReady and self.price.IsReady)\\n    \\n    def is_in_uptrend(self) -> bool:\\n        return (self.short_sma.Current.Value > self.long_sma.Current.Value)\\n        \\n    def performance(self) -> float:\\n        return self.price[0] / self.price[self.price.Count - 1] - 1\\n        \\n# Custom fee model.\\nclass CustomFeeModel(FeeModel):\\n    def GetOrderFee(self, parameters):\\n        fee = parameters.Security.Price * parameters.Order.AbsoluteQuantity * 0.00005\\n        return OrderFee(CashAmount(fee, \\\"USD\\\"))\",\n",
      "            \"modified\": \"2025-07-27 18:23:08\"\n",
      "        }\n",
      "    ],\n",
      "    \"success\": true\n",
      "}\n"
     ]
    }
   ],
   "source": [
    "### Create File\n",
    "import json\n",
    "import os\n",
    "\n",
    "# Define relative path to the algorithm file\n",
    "file_path = os.path.join(\"algos\", \"algo_0493.py\")\n",
    "\n",
    "# Read the code content from the subfolder\n",
    "with open(file_path, \"r\", encoding=\"utf-8\") as file:\n",
    "    code_content = file.read()\n",
    "\n",
    "# Send a POST request to the /files/create endpoint to create a new file\n",
    "response = post(f'{BASE_URL}/files/create', headers=get_headers(), json={\n",
    "    \"projectId\": project_id,  # ID of the project\n",
    "    \"name\": \"algo_0493.py\",  ## Name of the algorithm file\n",
    "    \"content\": code_content  # Content of the algorithm file - contains exactly thw same algorithm as defined under \"FULL PYTHON CODE section\"\n",
    "})\n",
    "\n",
    "# Parse the JSON response into python managable dict\n",
    "result = response.json()\n",
    "## print(result)\n",
    "\n",
    "# Check if the request was successful and print the result\n",
    "if result['success']:\n",
    "    ## file_name = result.get(\"files\", {}).get(\"name\", \"Unknown File\")\n",
    "    files = result.get(\"files\", [])\n",
    "    if files and isinstance(files, list):\n",
    "        file_name = files[0].get(\"name\", \"Unknown File\")\n",
    "    else:\n",
    "        file_name = \"Unknown File\"\n",
    "\n",
    "    print(\"Algorithm Created Successfully. Your Algorithm Name is \" + file_name + \".\\n\")\n",
    "    ## print(result)\n",
    "    print(json.dumps(result, indent=4))"
   ]
  },
  {
   "cell_type": "markdown",
   "id": "eda7ff37",
   "metadata": {},
   "source": [
    "## Step 4: Create Compilation Job"
   ]
  },
  {
   "cell_type": "markdown",
   "id": "baccf7db",
   "metadata": {},
   "source": [
    "This step sends a request to **compile** the uploaded algorithm file on QuantConnect. \n",
    "\n",
    "The **input** is the `projectId`, telling the system which project to compile. \n",
    "\n",
    "The **output** confirms success and prints the `compileId`, showing your code has been successfully compiled and is ready to run for backtest.\n"
   ]
  },
  {
   "cell_type": "code",
   "execution_count": 19,
   "id": "1a038d1b",
   "metadata": {},
   "outputs": [
    {
     "name": "stdout",
     "output_type": "stream",
     "text": [
      "Compilation Job Created Successfully for Your Algorithm. Your Compliance ID is 89aaa8e423e4780eef48b3de0f61258f-a3ffcacc8055d019682d72779e21dac0.\n",
      "\n",
      "{'compileId': '89aaa8e423e4780eef48b3de0f61258f-a3ffcacc8055d019682d72779e21dac0', 'state': 'InQueue', 'parameters': [], 'projectId': '24256806', 'signature': 'a3ffcacc8055d019682d72779e21dac0', 'signatureOrder': ['project/algo_0493.py', 'project/main.py'], 'success': True}\n",
      "{\n",
      "    \"compileId\": \"89aaa8e423e4780eef48b3de0f61258f-a3ffcacc8055d019682d72779e21dac0\",\n",
      "    \"state\": \"InQueue\",\n",
      "    \"parameters\": [],\n",
      "    \"projectId\": \"24256806\",\n",
      "    \"signature\": \"a3ffcacc8055d019682d72779e21dac0\",\n",
      "    \"signatureOrder\": [\n",
      "        \"project/algo_0493.py\",\n",
      "        \"project/main.py\"\n",
      "    ],\n",
      "    \"success\": true\n",
      "}\n"
     ]
    }
   ],
   "source": [
    "### Create Compilation Job\n",
    "# Prepare data payload to create a compilation job\n",
    "payload = {\n",
    "    \"projectId\": project_id  # ID of the project to compile\n",
    "}\n",
    "\n",
    "# Send a POST request to the /compile/create endpoint to start compilation\n",
    "response = post(f'{BASE_URL}/compile/create', headers=get_headers(), json=payload)\n",
    "\n",
    "# Parse the JSON response into python managable dict\n",
    "result = response.json()\n",
    "\n",
    "# Extract the compile ID from the response\n",
    "compile_id = result['compileId']\n",
    "\n",
    "# Check if the request was successful and print the result\n",
    "if result['success']:\n",
    "    print(\"Compilation Job Created Successfully for Your Algorithm. Your Compliance ID is \" + str(compile_id) + \".\\n\")\n",
    "    print(result)\n",
    "    ## print(result)\n",
    "    print(json.dumps(result, indent=4))"
   ]
  },
  {
   "cell_type": "markdown",
   "id": "472d9f1b",
   "metadata": {},
   "source": [
    "## Step 5: Start Backtesting"
   ]
  },
  {
   "cell_type": "markdown",
   "id": "6a6b7c7c",
   "metadata": {},
   "source": [
    "This step creates a **backtest** for your trading algorithm on QuantConnect. \n",
    "\n",
    "The **input** includes: \n",
    "1. your `projectId`, \n",
    "2. a successful `compileId`, and \n",
    "3. a backtest name. \n",
    "\n",
    "It then sends these inputs to the `/backtests/create` endpoint. \n",
    "\n",
    "The **output** is a confirmation with a unique `backtestId`, showing your strategy is now running historically to test performance over past market data. Please note that depends on how complex your algorithm is, it may take from few seconds to few minutes to complete the process. "
   ]
  },
  {
   "cell_type": "code",
   "execution_count": 20,
   "id": "b06f3208",
   "metadata": {},
   "outputs": [
    {
     "name": "stdout",
     "output_type": "stream",
     "text": [
      "Hurray! You completed the backtest successfully. Your Backtest ID is 8dd2a2d776aaa020dd3bf1450bdd1582.\n",
      "\n",
      "{\n",
      "    \"backtest\": {\n",
      "        \"note\": null,\n",
      "        \"name\": \"Backtest 1753640590\",\n",
      "        \"organizationId\": \"0aa48a67d71e36c6a3870ebb8c224664\",\n",
      "        \"projectId\": 24256806,\n",
      "        \"completed\": false,\n",
      "        \"optimizationId\": null,\n",
      "        \"backtestId\": \"8dd2a2d776aaa020dd3bf1450bdd1582\",\n",
      "        \"tradeableDates\": 0,\n",
      "        \"researchGuide\": {\n",
      "            \"minutes\": 1,\n",
      "            \"backtestCount\": 1,\n",
      "            \"parameters\": 35\n",
      "        },\n",
      "        \"backtestStart\": \"2025-07-27 18:23:11\",\n",
      "        \"backtestEnd\": \"2025-07-27 18:23:11\",\n",
      "        \"created\": \"2025-07-27 18:23:11\",\n",
      "        \"snapshotId\": 24256807,\n",
      "        \"status\": \"In Queue...\",\n",
      "        \"error\": null,\n",
      "        \"stacktrace\": null,\n",
      "        \"progress\": 0,\n",
      "        \"hasInitializeError\": false,\n",
      "        \"charts\": {\n",
      "            \"Strategy Equity\": {\n",
      "                \"name\": \"Strategy Equity\"\n",
      "            },\n",
      "            \"Benchmark\": {\n",
      "                \"name\": \"Benchmark\"\n",
      "            },\n",
      "            \"Portfolio Margin\": {\n",
      "                \"name\": \"Portfolio Margin\"\n",
      "            },\n",
      "            \"Assets Sales Volume\": {\n",
      "                \"name\": \"Assets Sales Volume\"\n",
      "            }\n",
      "        },\n",
      "        \"parameterSet\": [],\n",
      "        \"rollingWindow\": null,\n",
      "        \"runtimeStatistics\": {},\n",
      "        \"statistics\": {},\n",
      "        \"totalPerformance\": null,\n",
      "        \"nodeName\": \"B2-8 node 0e7a2d71\",\n",
      "        \"outOfSampleMaxEndDate\": null,\n",
      "        \"outOfSampleDays\": null\n",
      "    },\n",
      "    \"debugging\": false,\n",
      "    \"success\": true\n",
      "}\n",
      "8dd2a2d776aaa020dd3bf1450bdd1582\n"
     ]
    }
   ],
   "source": [
    "### Create Backtest\n",
    "# Define compilation ID (the ones have been run successfully)\n",
    "## compile_id = \"compile_id...\"\n",
    "\n",
    "# Send a POST request to the /backtests/create endpoint to create a backtest\n",
    "response = post(f'{BASE_URL}/backtests/create', headers=get_headers(), json={\n",
    "    \"projectId\": project_id,  # ID of the project to backtest\n",
    "    \"compileId\": compile_id,  # Compilation ID for the backtest\n",
    "    \"backtestName\": f\"Backtest {int(time())}\"  # Unique name for the backtest using current timestamp\n",
    "})\n",
    "\n",
    "# Parse the JSON response into python managable dict\n",
    "result = response.json()\n",
    "\n",
    "# Extract the backtest ID from the response\n",
    "backtest_id = result['backtest']['backtestId']\n",
    "\n",
    "# Check if the request was successful and print the result\n",
    "if result['success']:\n",
    "    print(\"Hurray! You completed the backtest successfully. Your Backtest ID is \" + str(backtest_id) + \".\\n\")\n",
    "    ## print(result)\n",
    "    print(json.dumps(result, indent=4))\n",
    "    print(backtest_id)"
   ]
  },
  {
   "cell_type": "markdown",
   "id": "c5183782",
   "metadata": {},
   "source": [
    "## Step 6: Read Backtest Performance"
   ]
  },
  {
   "cell_type": "markdown",
   "id": "666f4a8e",
   "metadata": {},
   "source": [
    "This final step retrieves and displays performance results of a completed backtest on QuantConnect. \n",
    "\n",
    "The **inputs** include `projectId` and `backtestId`. \n",
    "\n",
    "It then sends these to the `/backtests/read` endpoint. \n",
    "\n",
    "The **output** is a detailed table showing metrics like Sharpe Ratio, annual return, drawdown, and profit. These results help evaluate how well your trading strategy performed."
   ]
  },
  {
   "cell_type": "code",
   "execution_count": 21,
   "id": "308e2f2d",
   "metadata": {},
   "outputs": [
    {
     "name": "stdout",
     "output_type": "stream",
     "text": [
      "Backtest Performance:\n"
     ]
    }
   ],
   "source": [
    "### Read Backtest Statistics\n",
    "## Might need to wait few mins before getting results\n",
    "# Prepare data payload to read backtest performance\n",
    "import json\n",
    "from tabulate import tabulate\n",
    "\n",
    "payload = {\n",
    "    \"projectId\": project_id,  # ID of the project\n",
    "    \"backtestId\": backtest_id  # ID of the backtest to read\n",
    "}\n",
    "\n",
    "# Send a POST request to the /backtests/read endpoint to get statistics\n",
    "response = post(f'{BASE_URL}/backtests/read', headers=get_headers(), json=payload)\n",
    "\n",
    "# Parse the JSON response into python managable dict\n",
    "result = response.json()\n",
    "##print(result.get(\"success\",{}))\n",
    "# Check if the request was successful and print the statistics   \n",
    "if result['success']:\n",
    "    print(\"Backtest Performance:\")\n",
    "    backtest = result.get(\"backtest\", {})\n",
    "if backtest:\n",
    "    total_performance = backtest.get(\"totalPerformance\", {})\n",
    "    if total_performance:\n",
    "        stats = total_performance.get(\"portfolioStatistics\", {})\n",
    "    else:\n",
    "        stats = {}\n",
    "else:\n",
    "    stats = {}\n",
    "\n",
    "    ## print(stats)\n",
    "    metrics = {\n",
    "        \"Trading Days\": backtestInfo.get(\"tradeableDates\", \"N/A\"),\n",
    "        \"Algo Start Time\": backtestInfo.get(\"backtestStart\", \"N/A\"),\n",
    "        \"Algo End Time\": backtestInfo.get(\"backtestEnd\", \"N/A\"),\n",
    "        \"Current Asset Balance\": (\n",
    "            f\"{float(stats.get('endEquity')):.2f}\"\n",
    "            if stats.get(\"endEquity\") not in [None, \"N/A\"]\n",
    "            else \"N/A\"\n",
    "        ),\n",
    "        \"Compounding Annual Return\": (\n",
    "            f\"{float(stats.get('compoundingAnnualReturn')) * 100:.2f}%\"\n",
    "            if stats.get('compoundingAnnualReturn') not in [None, \"N/A\"]\n",
    "            else \"N/A\"\n",
    "        ),\n",
    "        \"Drawdown\": (\n",
    "            f\"{float(stats.get('drawdown')) * 100:.2f}%\"\n",
    "            if stats.get('drawdown') not in [None, \"N/A\"]\n",
    "            else \"N/A\"\n",
    "        ),\n",
    "        \"Total Net Profit\": (\n",
    "            f\"{float(stats.get('totalNetProfit')) * 100:.2f}%\"\n",
    "            if stats.get('totalNetProfit') not in [None, \"N/A\"]\n",
    "            else \"N/A\"\n",
    "        ),\n",
    "        \"Sharpe Ratio\": (\n",
    "            f\"{float(stats.get('sharpeRatio')):.2f}\"\n",
    "            if stats.get(\"sharpeRatio\") not in [None, \"N/A\"]\n",
    "            else \"N/A\"\n",
    "        ),\n",
    "        \"Sortino Ratio\": (\n",
    "            f\"{float(stats.get('sortinoRatio')):.2f}\"\n",
    "            if stats.get(\"sortinoRatio\") not in [None, \"N/A\"]\n",
    "            else \"N/A\"\n",
    "        ),\n",
    "        \"Treynor Ratio\": (\n",
    "            f\"{float(stats.get('treynorRatio')):.2f}\"\n",
    "            if stats.get(\"treynorRatio\") not in [None, \"N/A\"]\n",
    "            else \"N/A\"\n",
    "        ),\n",
    "        \"Beta\": (\n",
    "            f\"{float(stats.get('beta')):.2f}\"\n",
    "            if stats.get(\"beta\") not in [None, \"N/A\"]\n",
    "            else \"N/A\"\n",
    "        ),\n",
    "        \"Information Ratio\": (\n",
    "            f\"{float(stats.get('informationRatio')):.2f}\"\n",
    "            if stats.get(\"informationRatio\") not in [None, \"N/A\"]\n",
    "            else \"N/A\"\n",
    "        ),\n",
    "        \"Tracking Error\": (\n",
    "            f\"{float(stats.get('trackingError')) * 100:.2f}%\"\n",
    "            if stats.get('trackingError') not in [None, \"N/A\"]\n",
    "            else \"N/A\"\n",
    "        ),\n",
    "        \"Portfolio Turnover\": (\n",
    "            f\"{float(stats.get('portfolioTurnover')) * 100:.2f}%\"\n",
    "            if stats.get('portfolioTurnover') not in [None, \"N/A\"]\n",
    "            else \"N/A\"\n",
    "        ),\n",
    "        \"VaR 99\": stats.get(\"valueAtRisk99\", \"N/A\"),\n",
    "        \"VaR 95\": stats.get(\"valueAtRisk95\", \"N/A\")\n",
    "    }\n",
    "\n",
    "    print(tabulate(metrics.items(), headers=[\"Metric\", \"Value\"], tablefmt=\"grid\"))\n",
    "\n",
    "# print the entire backtest statistics\n",
    "\n",
    "## if result['success']:\n",
    "    ## print(\"Backtest Statistics:\")\n",
    "    ### print(result)\n",
    "    ## print(json.dumps(result, indent=4)) "
   ]
  },
  {
   "cell_type": "markdown",
   "id": "e1e07a94",
   "metadata": {},
   "source": [
    "### Congratulations! You've successfully executed your strategy and retrieved the performance metrics!"
   ]
  }
 ],
 "metadata": {
  "kernelspec": {
   "display_name": "Python 3 (ipykernel)",
   "language": "python",
   "name": "python3"
  },
  "language_info": {
   "codemirror_mode": {
    "name": "ipython",
    "version": 3
   },
   "file_extension": ".py",
   "mimetype": "text/x-python",
   "name": "python",
   "nbconvert_exporter": "python",
   "pygments_lexer": "ipython3",
   "version": "3.12.6"
  }
 },
 "nbformat": 4,
 "nbformat_minor": 5
}
