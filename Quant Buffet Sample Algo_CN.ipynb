{
 "cells": [
  {
   "cell_type": "markdown",
   "id": "77753e6f",
   "metadata": {},
   "source": [
    "# 完整指南：立即执行策略"
   ]
  },
  {
   "cell_type": "markdown",
   "id": "793e7e77",
   "metadata": {},
   "source": [
    "按照以下 6 个简单步骤，运行在上文中“**完整Python代码**”部分展示的代码并立即查看回测结果。您无需编写任何代码 — 所有内容都已为您预设完成。"
   ]
  },
  {
   "cell_type": "markdown",
   "id": "962c9476",
   "metadata": {},
   "source": [
    "## 第一步：使用用户ID连接API"
   ]
  },
  {
   "cell_type": "markdown",
   "id": "a3c5e3c2",
   "metadata": {},
   "source": [
    "#### 这一步让你在执行交易算法并获取回测结果之前，安全地连接 QuantConnect API。\n",
    "\n",
    "具体分解步骤如下：\n",
    "\n",
    "1. 首先，系统会将你的 API 密钥与当前时间结合，生成一个时效性令牌，并进行加密以确保安全，然后将其格式化，以便通过网络发送到服务器。\n",
    "\n",
    "2. 接着，它会使用该令牌发送API连接请求。\n",
    "\n",
    "3. 最后，服务器会返回结果，确认连接是否成功。\n",
    "\n",
    "为了安全起见， **`USER_ID`** 和 **`API_TOKEN`** 的数值已被隐藏。立即加入 QuantConnect 会员，获取您的专属用户 ID 和 API 密钥 — 开始执行您自己的策略！"
   ]
  },
  {
   "cell_type": "code",
   "execution_count": 2,
   "id": "3536a57b",
   "metadata": {},
   "outputs": [
    {
     "name": "stderr",
     "output_type": "stream",
     "text": [
      "C:\\ProgramData\\anaconda3\\Lib\\site-packages\\requests\\__init__.py:109: RequestsDependencyWarning: urllib3 (2.4.0) or chardet (4.0.0)/charset_normalizer (2.0.4) doesn't match a supported version!\n",
      "  warnings.warn(\n"
     ]
    }
   ],
   "source": [
    "from base64 import b64encode ## 将文本编码为 Base64\n",
    "from hashlib import sha256 ## 一个将任意文本“搅碎”成混乱字符串的“搅拌机”（出于安全考量）\n",
    "from time import time ## 获取当前时间（以秒为单位），用于生成唯一的时间戳\n",
    "from requests import get, post ## requests：用于发送 HTTP 请求；get：用于从服务器获取数据；post：用于向服务器发送数据\n",
    "\n",
    "import json ## 以 4 个空格缩进的方式美观地打印来自 API 的 JSON 结果\n",
    "BASE_URL = 'https://www.quantconnect.com/api/v2/'\n",
    "\n",
    "# 你可以在 https://www.quantconnect.com/organization/找到组织 ID。（不必需） \n",
    "USER_ID = 224901\n",
    "API_TOKEN = 'b26bdf0c94229806b8515308d77f75b6aa9829d2802540de0c9e9d0dc477da4e'\n",
    "## ORGANIZATION_ID = '____'"
   ]
  },
  {
   "cell_type": "code",
   "execution_count": 5,
   "id": "bfe79653",
   "metadata": {},
   "outputs": [
    {
     "name": "stdout",
     "output_type": "stream",
     "text": [
      "身份验证结果：\n",
      "{'success': True}\n"
     ]
    }
   ],
   "source": [
    "def get_headers(): ## 返回发送安全 API 请求所需的请求头信息\n",
    "    \n",
    "    # 获取时间戳\n",
    "    timestamp = f'{int(time())}' ## 获取当前时间（例如“1722458765”）。这样可以确保令牌只在短时间内有效，增加安全性。\n",
    "    time_stamped_token = f'{API_TOKEN}:{timestamp}'.encode('utf-8') ## 将 API 令牌与当前时间用冒号分隔组合，如 b26bd...da4e:1722458765，然后使用 UTF-8 编码转换成计算机可读的字节\n",
    "\n",
    "    # 获取哈希后的 API 令牌\n",
    "    hashed_token = sha256(time_stamped_token).hexdigest() ## 通过 SHA-256 哈希算法处理，生成一串长且混乱的字符串，无法被逆向破解\n",
    "\n",
    "    authentication = f'{USER_ID}:{hashed_token}'.encode('utf-8') ## 将用户 ID 与哈希令牌组合后编码成字节，这就是加密形式的登录身份\n",
    "    authentication = b64encode(authentication).decode('ascii') ## 对编码后的身份信息进行 Base64 编码，以便安全地通过互联网传输。然后将其解码为可读的文本字符串。\n",
    "\n",
    "    # 创建请求头字典\n",
    "    return {\n",
    "        'Authorization': f'Basic {authentication}', ## 你的 Base64 登录字符串\n",
    "        'Timestamp': timestamp ## 你的 Base64 登录字符串\n",
    "    } ## 这就是你在 API 请求中用来证明身份的方式\n",
    "\n",
    "# 登录系统以验证你的身份\n",
    "response = post(f'{BASE_URL}/authenticate', headers = get_headers()) ## 'post' 函数向 API 发送数据；它向网址 [www.quantconnect.com/api/v2/authenticate](http://www.quantconnect.com/api/v2/authenticate) 发送请求；请求中包含通过你的 get\\_headers() 函数生成的登录信息头\n",
    "print(\"身份验证结果：\")\n",
    "print(response.json()) ## POST 请求的响应保存在变量 “response” 中；用于显示身份验证是否成功\n",
    "\n",
    "# --------------------\n",
    "\n",
    "# 要管理的项目 ID\n",
    "project_id = 0 ## 在下一步中替换为已创建的项目 ID。"
   ]
  },
  {
   "cell_type": "markdown",
   "id": "b3d98a62",
   "metadata": {},
   "source": [
    "## 第二步：创建新项目"
   ]
  },
  {
   "cell_type": "markdown",
   "id": "0a506732",
   "metadata": {},
   "source": [
    "这一步通过 API 在 QuantConnect 上创建一个新的**项目（project）**——每个算法都必须存在于项目内。你可以把项目理解为你交付内容时的一个包装盒。\n",
    "\n",
    "**输入**包括：\n",
    "\n",
    "1. 项目名称，\n",
    "2. 使用的编程语言（“Py”代表 Python）。\n",
    "\n",
    "然后，它会将这些信息发送到 `/projects/create` API 端点。\n",
    "\n",
    "**输出**会返回新项目的唯一 ID。"
   ]
  },
  {
   "cell_type": "code",
   "execution_count": 8,
   "id": "00feea36",
   "metadata": {},
   "outputs": [
    {
     "name": "stdout",
     "output_type": "stream",
     "text": [
      "项目创建成功。你的项目ID是 23814211 。\n",
      "\n",
      "{\n",
      "    \"projects\": [\n",
      "        {\n",
      "            \"projectId\": 23814211,\n",
      "            \"organizationId\": \"0aa48a67d71e36c6a3870ebb8c224664\",\n",
      "            \"name\": \"Project_1751550471\",\n",
      "            \"modified\": \"2025-07-03 13:47:52\",\n",
      "            \"created\": \"2025-07-03 13:47:52\",\n",
      "            \"ownerId\": 224901,\n",
      "            \"language\": \"Py\",\n",
      "            \"collaborators\": [\n",
      "                {\n",
      "                    \"uid\": 224901,\n",
      "                    \"liveControl\": true,\n",
      "                    \"permission\": \"write\",\n",
      "                    \"publicId\": \"haixiang-yan\",\n",
      "                    \"profileImage\": \"https://cdn.quantconnect.com/web/i/users/profile/4f9b4ae886ebdb31674640077.png\",\n",
      "                    \"email\": \"hxyan.2015@gmail.com\",\n",
      "                    \"name\": \"Haixiang Yan\",\n",
      "                    \"bio\": null,\n",
      "                    \"owner\": true\n",
      "                }\n",
      "            ],\n",
      "            \"leanVersionId\": 17170,\n",
      "            \"leanPinnedToMaster\": true,\n",
      "            \"owner\": true,\n",
      "            \"description\": \"\",\n",
      "            \"channelId\": \"P23814211-200d35ef8194e7e671d58b90fea578c9\",\n",
      "            \"parameters\": [],\n",
      "            \"libraries\": [],\n",
      "            \"isAlphaStreamDeployment\": 0,\n",
      "            \"grid\": {\n",
      "                \"xs\": [],\n",
      "                \"sm\": [],\n",
      "                \"md\": [],\n",
      "                \"lg\": [],\n",
      "                \"xl\": []\n",
      "            },\n",
      "            \"liveGrid\": {\n",
      "                \"xs\": [],\n",
      "                \"sm\": [],\n",
      "                \"md\": [],\n",
      "                \"lg\": [],\n",
      "                \"xl\": []\n",
      "            },\n",
      "            \"builder\": 0,\n",
      "            \"paperEquity\": null,\n",
      "            \"lastLiveDeployment\": null,\n",
      "            \"liveForm\": null,\n",
      "            \"encrypted\": false,\n",
      "            \"codeRunning\": false,\n",
      "            \"leanEnvironment\": 1,\n",
      "            \"encryptionKey\": null,\n",
      "            \"maxFileSize\": 64000\n",
      "        }\n",
      "    ],\n",
      "    \"success\": true\n",
      "}\n"
     ]
    }
   ],
   "source": [
    "### 创建项目\n",
    "# 向 `/projects/create` 端点发送 POST 请求以创建新项目\n",
    "response = post(f'{BASE_URL}/projects/create', headers=get_headers(), json={  ## json={...} 部分包含你发送的项目信息——一个包含两个条目的字典：项目名称和编程语言\n",
    "    \"name\": f\"Project_{int(time())}\",  # 使用当前时间戳生成唯一的项目名称\n",
    "    \"language\": \"Py\"  # 项目的编程语言（Python）\n",
    "})\n",
    "\n",
    "# 将 JSON 响应解析为 Python 可操作的字典\n",
    "result = response.json() ## json() 将 JSON 响应转换为字典 —— 而不是相反的操作\n",
    "\n",
    "# 从返回字节中提取项目 ID。\n",
    "project_id = result['projects'][0]['projectId'] ## “result” 是一个嵌套字典：第一层有两个键：'success' 和 'projects'，其中 'projects' 下又包含两个键：'projectId' 和 'name'\n",
    "## \\[0] 这里表示访问 'projects' 列表中的第一个字典，该字典包含键 'projectId'\n",
    "\n",
    "# 检查请求是否成功，并打印结果\n",
    "if result['success']:\n",
    "    print(\"项目创建成功。你的项目ID是 \" + str(project_id) + \" 。\\n\")\n",
    "    ## print(result)\n",
    "    print(json.dumps(result, indent=4))"
   ]
  },
  {
   "cell_type": "markdown",
   "id": "b4b33e1e",
   "metadata": {},
   "source": [
    "## 第三步：创建算法文件"
   ]
  },
  {
   "cell_type": "markdown",
   "id": "0cdd4605",
   "metadata": {},
   "source": [
    "这一步通过 API 将**算法文件**放入你在步骤 2 中定义的 QuantConnect 项目（“包装盒”）中。\n",
    "\n",
    "**输入**包括：\n",
    "\n",
    "1. 你定义的文件名（例如 `utils.py`），\n",
    "2. 文件内容（即交易算法），\n",
    "3. 关联的项目 ID（“包装盒”）。\n",
    "\n",
    "然后，它会将这些信息发送到 QuantConnect 的 `/files/create` 端点。\n",
    "\n",
    "**输出**会确认上传成功并返回上传的文件名。"
   ]
  },
  {
   "cell_type": "code",
   "execution_count": 9,
   "id": "eb62248a",
   "metadata": {},
   "outputs": [
    {
     "name": "stdout",
     "output_type": "stream",
     "text": [
      "算法文件创建成功。你的文件名是 utils.py\n",
      "\n",
      "{\n",
      "    \"files\": [\n",
      "        {\n",
      "            \"id\": 96001233,\n",
      "            \"name\": \"utils.py\",\n",
      "            \"content\": \"#!/usr/bin/env python\\n# coding: utf-8\\n\\n# In[ ]:\\n\\n\\nfrom AlgorithmImports import *\\n\\nclass JanuaryEffectInStocks(QCAlgorithm):\\n\\n    def Initialize(self):\\n        self.SetStartDate(2000, 1, 1)  \\n        self.SetCash(100000) \\n\\n        data = self.AddEquity(\\\"SPY\\\", Resolution.Daily)\\n        data.SetLeverage(10)\\n        self.large_cap = data.Symbol\\n        \\n        data = self.AddEquity(\\\"IWM\\\", Resolution.Daily)\\n        data.SetLeverage(10)\\n        self.small_cap = data.Symbol\\n\\n        self.start_price = None\\n        self.recent_month = -1\\n        \\n    def OnData(self, data):\\n        if self.recent_month == self.Time.month:\\n            return\\n        self.recent_month = self.Time.month\\n\\n        if self.Securities[self.large_cap].GetLastData() and self.Securities[self.small_cap].GetLastData():\\n            if (self.Time.date() - self.Securities[self.large_cap].GetLastData().Time.date()).days < 5 and (self.Time.date() - self.Securities[self.small_cap].GetLastData().Time.date()).days < 5:\\n                if self.Time.month == 1:\\n                    if self.Portfolio[self.large_cap].Invested:\\n                        self.Liquidate(self.large_cap)\\n                    self.SetHoldings(self.small_cap, 1)\\n                else:\\n                    if self.Portfolio[self.small_cap].Invested:\\n                        self.Liquidate(self.small_cap)\\n                    self.SetHoldings(self.large_cap, 1)\\n            else:\\n                self.Liquidate()\\n        else:\\n            self.Liquidate()\\n\\n\",\n",
      "            \"modified\": \"2025-07-03 13:48:46\"\n",
      "        }\n",
      "    ],\n",
      "    \"success\": true\n",
      "}\n"
     ]
    }
   ],
   "source": [
    "### 创建文件\n",
    "import json\n",
    "import os\n",
    "\n",
    "# 定义文件的相对路径\n",
    "file_path = os.path.join(\"algos\", \"utils.py\")\n",
    "\n",
    "# 从子文件夹中读取代码内容\n",
    "with open(file_path, \"r\", encoding=\"utf-8\") as file:\n",
    "    code_content = file.read()\n",
    "\n",
    "# 向 `/files/create` 端点发送 POST 请求以创建新文件\n",
    "response = post(f'{BASE_URL}/files/create', headers=get_headers(), json={\n",
    "    \"projectId\": project_id,  # 项目 ID\n",
    "    \"name\": \"utils.py\",  # 算法文件名\n",
    "    \"content\": code_content  # 文件内容（Python算法）\n",
    "})\n",
    "\n",
    "# 将 JSON 响应解析为 Python 可操作的字典\n",
    "result = response.json()\n",
    "## print(result)\n",
    "\n",
    "# 检查请求是否成功，并打印结果\n",
    "if result['success']:\n",
    "    files = result.get(\"files\", [])\n",
    "    if files and isinstance(files, list):\n",
    "        file_name = files[0].get(\"name\", \"Unknown File\")\n",
    "    else:\n",
    "        file_name = \"Unknown File\"\n",
    "\n",
    "    print(\"算法文件创建成功。你的文件名是 \" + file_name + \" 。\\n\")\n",
    "    ## print(result)\n",
    "    print(json.dumps(result, indent=4))"
   ]
  },
  {
   "cell_type": "markdown",
   "id": "eda7ff37",
   "metadata": {},
   "source": [
    "## 第四步：创建编译任务"
   ]
  },
  {
   "cell_type": "markdown",
   "id": "baccf7db",
   "metadata": {},
   "source": [
    "这一步向 QuantConnect 发送请求，**编译**已上传的算法文件。\n",
    "\n",
    "**输入**是 `projectId`，用于告诉系统要编译哪个项目。\n",
    "\n",
    "**输出**确认编译成功，并打印 `compileId`，表示你的代码已成功编译，准备好运行回测。"
   ]
  },
  {
   "cell_type": "code",
   "execution_count": 10,
   "id": "1a038d1b",
   "metadata": {},
   "outputs": [
    {
     "name": "stdout",
     "output_type": "stream",
     "text": [
      "编译任务创建成功。你的编译ID是 88358864bff68bd1670b271edd4ec36e-8321e6cf7a315a90351d2e46ffb84f94 。\n",
      "\n",
      "{'compileId': '88358864bff68bd1670b271edd4ec36e-8321e6cf7a315a90351d2e46ffb84f94', 'state': 'InQueue', 'parameters': [], 'projectId': '23814211', 'signature': '8321e6cf7a315a90351d2e46ffb84f94', 'signatureOrder': ['project/main.py', 'project/utils.py'], 'success': True}\n",
      "{\n",
      "    \"compileId\": \"88358864bff68bd1670b271edd4ec36e-8321e6cf7a315a90351d2e46ffb84f94\",\n",
      "    \"state\": \"InQueue\",\n",
      "    \"parameters\": [],\n",
      "    \"projectId\": \"23814211\",\n",
      "    \"signature\": \"8321e6cf7a315a90351d2e46ffb84f94\",\n",
      "    \"signatureOrder\": [\n",
      "        \"project/main.py\",\n",
      "        \"project/utils.py\"\n",
      "    ],\n",
      "    \"success\": true\n",
      "}\n"
     ]
    }
   ],
   "source": [
    "### 创建编译任务\n",
    "# 准备数据载荷以创建编译任务\n",
    "payload = {\n",
    "    \"projectId\": project_id  # 需要编译的项目 ID\n",
    "}\n",
    "\n",
    "# 向 `/compile/create` 端点发送 POST 请求以开始编译\n",
    "response = post(f'{BASE_URL}/compile/create', headers=get_headers(), json=payload)\n",
    "\n",
    "# 将 JSON 响应解析为 Python 可操作的字典\n",
    "result = response.json()\n",
    "\n",
    "# 从响应中提取编译 ID\n",
    "compile_id = result['compileId']\n",
    "\n",
    "# 检查请求是否成功，并打印结果\n",
    "if result['success']:\n",
    "    print(\"编译任务创建成功。你的编译ID是 \" + str(compile_id) + \" 。\\n\")\n",
    "    print(result)\n",
    "    ## print(result)\n",
    "    print(json.dumps(result, indent=4))"
   ]
  },
  {
   "cell_type": "markdown",
   "id": "472d9f1b",
   "metadata": {},
   "source": [
    "## 第五步：开始回测"
   ]
  },
  {
   "cell_type": "markdown",
   "id": "6a6b7c7c",
   "metadata": {},
   "source": [
    "这一步在 QuantConnect 上为你的交易算法创建一个**回测项目**。\n",
    "\n",
    "**输入**包括：\n",
    "\n",
    "1. 你的 `projectId`，\n",
    "2. 被成功执行的 `compileId`，\n",
    "3. 回测名称。\n",
    "\n",
    "然后，它会将这些输入发送到 `/backtests/create` API端点。\n",
    "\n",
    "**输出**是一条确认信息，包含唯一的 `backtestId`，表示你的策略正在基于历史市场数据运行测试。请注意，回测完成时间取决于算法的复杂程度，可能从几秒到几分钟不等。"
   ]
  },
  {
   "cell_type": "code",
   "execution_count": 11,
   "id": "b06f3208",
   "metadata": {},
   "outputs": [
    {
     "name": "stdout",
     "output_type": "stream",
     "text": [
      "太棒了，回测执行成功。你的回测ID是 cd38a15570c7bd7f285f7d8618c3a390 。\n",
      "\n",
      "{\n",
      "    \"backtest\": {\n",
      "        \"note\": null,\n",
      "        \"name\": \"Backtest 1751550618\",\n",
      "        \"organizationId\": 218385,\n",
      "        \"projectId\": 23814211,\n",
      "        \"completed\": false,\n",
      "        \"optimizationId\": null,\n",
      "        \"backtestId\": \"cd38a15570c7bd7f285f7d8618c3a390\",\n",
      "        \"tradeableDates\": 0,\n",
      "        \"researchGuide\": {\n",
      "            \"minutes\": 1,\n",
      "            \"backtestCount\": 1,\n",
      "            \"parameters\": 11\n",
      "        },\n",
      "        \"backtestStart\": \"2025-07-03 13:50:19\",\n",
      "        \"backtestEnd\": \"2025-07-03 13:50:19\",\n",
      "        \"created\": \"2025-07-03 13:50:19\",\n",
      "        \"snapshotId\": 23814256,\n",
      "        \"status\": \"In Queue...\",\n",
      "        \"error\": null,\n",
      "        \"stacktrace\": null,\n",
      "        \"progress\": 0,\n",
      "        \"hasInitializeError\": false,\n",
      "        \"charts\": {\n",
      "            \"Strategy Equity\": {\n",
      "                \"name\": \"Strategy Equity\"\n",
      "            },\n",
      "            \"Benchmark\": {\n",
      "                \"name\": \"Benchmark\"\n",
      "            },\n",
      "            \"Portfolio Margin\": {\n",
      "                \"name\": \"Portfolio Margin\"\n",
      "            },\n",
      "            \"Assets Sales Volume\": {\n",
      "                \"name\": \"Assets Sales Volume\"\n",
      "            }\n",
      "        },\n",
      "        \"parameterSet\": [],\n",
      "        \"rollingWindow\": null,\n",
      "        \"runtimeStatistics\": {},\n",
      "        \"statistics\": {},\n",
      "        \"totalPerformance\": null,\n",
      "        \"nodeName\": \"B2-8 node 0e7a2d71\",\n",
      "        \"outOfSampleMaxEndDate\": null,\n",
      "        \"outOfSampleDays\": null\n",
      "    },\n",
      "    \"debugging\": false,\n",
      "    \"success\": true\n",
      "}\n",
      "cd38a15570c7bd7f285f7d8618c3a390\n"
     ]
    }
   ],
   "source": [
    "### 创建回测项目\n",
    "# 向 `/backtests/create` 端点发送 POST 请求以创建回测\n",
    "response = post(f'{BASE_URL}/backtests/create', headers=get_headers(), json={\n",
    "    \"projectId\": project_id,  # 需要回测的项目 ID\n",
    "    \"compileId\": compile_id,  # 需要回测的编译 ID\n",
    "    \"backtestName\": f\"Backtest {int(time())}\"  # 使用当前时间戳生成回测的唯一名称\n",
    "})\n",
    "\n",
    "# 将 JSON 响应解析为 Python 可操作的字典\n",
    "result = response.json()\n",
    "\n",
    "# 从响应中提取回测 ID\n",
    "backtest_id = result['backtest']['backtestId']\n",
    "\n",
    "# 检查请求是否成功，并打印结果\n",
    "if result['success']:\n",
    "    print(\"太棒了，回测执行成功。你的回测ID是 \" + str(backtest_id) + \" 。\\n\")\n",
    "    ## print(result)\n",
    "    print(json.dumps(result, indent=4))\n",
    "    print(backtest_id)"
   ]
  },
  {
   "cell_type": "markdown",
   "id": "c5183782",
   "metadata": {},
   "source": [
    "## 第六步：读取回测表现"
   ]
  },
  {
   "cell_type": "markdown",
   "id": "666f4a8e",
   "metadata": {},
   "source": [
    "最后这一步用于获取并展示 QuantConnect 上已完成回测的表现。\n",
    "\n",
    "**输入**包括 `projectId` 和 `backtestId`。\n",
    "\n",
    "随后，它会将这些信息发送到 `/backtests/read` 端点。\n",
    "\n",
    "**输出**是一个表格，显示如夏普比率（Sharpe Ratio）、年化收益率、回撤幅度和年化收益率等指标。这些结果有助于评估你的交易策略表现如何。"
   ]
  },
  {
   "cell_type": "code",
   "execution_count": 12,
   "id": "308e2f2d",
   "metadata": {},
   "outputs": [
    {
     "name": "stdout",
     "output_type": "stream",
     "text": [
      "回测表现\n",
      "+----------------+---------------------+\n",
      "| 指标           | 数值                |\n",
      "+================+=====================+\n",
      "| 交易执行天数   | 376                 |\n",
      "+----------------+---------------------+\n",
      "| 回测开始时间   | 2024-01-02 00:00:00 |\n",
      "+----------------+---------------------+\n",
      "| 回测结束时间   | 2025-07-02 23:59:59 |\n",
      "+----------------+---------------------+\n",
      "| 当前资产余额   | 117412.83           |\n",
      "+----------------+---------------------+\n",
      "| 复合年化收益率 | 11.29%              |\n",
      "+----------------+---------------------+\n",
      "| 回撤幅度       | 17.90%              |\n",
      "+----------------+---------------------+\n",
      "| 总净利润       | 17.41%              |\n",
      "+----------------+---------------------+\n",
      "| 夏普比率       | 0.26                |\n",
      "+----------------+---------------------+\n",
      "| 索提诺比率     | 0.28                |\n",
      "+----------------+---------------------+\n",
      "| 特雷诺比率     | 0.04                |\n",
      "+----------------+---------------------+\n",
      "| 贝塔           | 0.74                |\n",
      "+----------------+---------------------+\n",
      "| 信息比率       | -0.97               |\n",
      "+----------------+---------------------+\n",
      "| 跟踪误差       | 7.06%               |\n",
      "+----------------+---------------------+\n",
      "| 投资组合周转率 | 0.18%               |\n",
      "+----------------+---------------------+\n",
      "| VaR 99         | -0.022              |\n",
      "+----------------+---------------------+\n",
      "| VaR 95         | -0.016              |\n",
      "+----------------+---------------------+\n"
     ]
    }
   ],
   "source": [
    "### 读取回测表现\n",
    "## 可能需要稍等几分钟以获取回测结果\n",
    "# 准备数据载荷以读取回测表现\n",
    "import json\n",
    "from tabulate import tabulate\n",
    "\n",
    "payload = {\n",
    "    \"projectId\": project_id,  # 项目 ID\n",
    "    \"backtestId\": backtest_id  # 回测 ID\n",
    "}\n",
    "\n",
    "# 向 /backtests/read 端点发送 POST 请求以获取回测数据\n",
    "response = post(f'{BASE_URL}/backtests/read', headers=get_headers(), json=payload)\n",
    "\n",
    "# 将 JSON 响应解析为 Python 可操作的字典\n",
    "result = response.json()\n",
    "\n",
    "# 检查请求是否成功，并打印回测表现数据\n",
    "if result['success']:\n",
    "    print(\"回测表现\")\n",
    "    backtestInfo = result.get(\"backtest\",{})\n",
    "    stats = result.get(\"backtest\",{}).get(\"totalPerformance\",{}).get(\"portfolioStatistics\", {})\n",
    "    ## print(stats)\n",
    "    metrics = {\n",
    "        \"交易执行天数\": backtestInfo.get(\"tradeableDates\", \"N/A\"),\n",
    "        \"回测开始时间\": backtestInfo.get(\"backtestStart\", \"N/A\"),\n",
    "        \"回测结束时间\": backtestInfo.get(\"backtestEnd\", \"N/A\"),\n",
    "        \"当前资产余额\": (\n",
    "            f\"{float(stats.get('endEquity')):.2f}\"\n",
    "            if stats.get(\"endEquity\") not in [None, \"N/A\"]\n",
    "            else \"N/A\"\n",
    "        ),\n",
    "        \"复合年化收益率\": (\n",
    "            f\"{float(stats.get('compoundingAnnualReturn')) * 100:.2f}%\"\n",
    "            if stats.get('compoundingAnnualReturn') not in [None, \"N/A\"]\n",
    "            else \"N/A\"\n",
    "        ),\n",
    "        \"回撤幅度\": (\n",
    "            f\"{float(stats.get('drawdown')) * 100:.2f}%\"\n",
    "            if stats.get('drawdown') not in [None, \"N/A\"]\n",
    "            else \"N/A\"\n",
    "        ),\n",
    "        \"总净利润\": (\n",
    "            f\"{float(stats.get('totalNetProfit')) * 100:.2f}%\"\n",
    "            if stats.get('totalNetProfit') not in [None, \"N/A\"]\n",
    "            else \"N/A\"\n",
    "        ),\n",
    "        \"夏普比率\": (\n",
    "            f\"{float(stats.get('sharpeRatio')):.2f}\"\n",
    "            if stats.get(\"sharpeRatio\") not in [None, \"N/A\"]\n",
    "            else \"N/A\"\n",
    "        ),\n",
    "        \"索提诺比率\": (\n",
    "            f\"{float(stats.get('sortinoRatio')):.2f}\"\n",
    "            if stats.get(\"sortinoRatio\") not in [None, \"N/A\"]\n",
    "            else \"N/A\"\n",
    "        ),\n",
    "        \"特雷诺比率\": (\n",
    "            f\"{float(stats.get('treynorRatio')):.2f}\"\n",
    "            if stats.get(\"treynorRatio\") not in [None, \"N/A\"]\n",
    "            else \"N/A\"\n",
    "        ),\n",
    "        \"贝塔\": (\n",
    "            f\"{float(stats.get('beta')):.2f}\"\n",
    "            if stats.get(\"beta\") not in [None, \"N/A\"]\n",
    "            else \"N/A\"\n",
    "        ),\n",
    "        \"信息比率\": (\n",
    "            f\"{float(stats.get('informationRatio')):.2f}\"\n",
    "            if stats.get(\"informationRatio\") not in [None, \"N/A\"]\n",
    "            else \"N/A\"\n",
    "        ),\n",
    "        \"跟踪误差\": (\n",
    "            f\"{float(stats.get('trackingError')) * 100:.2f}%\"\n",
    "            if stats.get('trackingError') not in [None, \"N/A\"]\n",
    "            else \"N/A\"\n",
    "        ),\n",
    "        \"投资组合周转率\": (\n",
    "            f\"{float(stats.get('portfolioTurnover')) * 100:.2f}%\"\n",
    "            if stats.get('portfolioTurnover') not in [None, \"N/A\"]\n",
    "            else \"N/A\"\n",
    "        ),\n",
    "        \"VaR 99\": stats.get(\"valueAtRisk99\", \"N/A\"),\n",
    "        \"VaR 95\": stats.get(\"valueAtRisk95\", \"N/A\")\n",
    "    }\n",
    "\n",
    "    print(tabulate(metrics.items(), headers=[\"指标\", \"数值\"], tablefmt=\"grid\"))\n",
    "\n",
    "# print the entire backtest statistics\n",
    "\n",
    "## if result['success']:\n",
    "    ## print(\"Backtest Statistics:\")\n",
    "    ### print(result)\n",
    "    ## print(json.dumps(result, indent=4)) "
   ]
  },
  {
   "cell_type": "markdown",
   "id": "ba8c3af7",
   "metadata": {},
   "source": [
    "### 恭喜您成功执行一条策略并获得回测表现数据！"
   ]
  }
 ],
 "metadata": {
  "kernelspec": {
   "display_name": "Python 3 (ipykernel)",
   "language": "python",
   "name": "python3"
  },
  "language_info": {
   "codemirror_mode": {
    "name": "ipython",
    "version": 3
   },
   "file_extension": ".py",
   "mimetype": "text/x-python",
   "name": "python",
   "nbconvert_exporter": "python",
   "pygments_lexer": "ipython3",
   "version": "3.11.3"
  }
 },
 "nbformat": 4,
 "nbformat_minor": 5
}
